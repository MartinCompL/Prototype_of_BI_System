{
 "cells": [
  {
   "cell_type": "markdown",
   "id": "7a04c65a",
   "metadata": {},
   "source": [
    "## Introduction of Prototype BI System"
   ]
  },
  {
   "cell_type": "markdown",
   "id": "c9603119",
   "metadata": {},
   "source": [
    "The Business intelligent system is a system that is used to help analyzing data and gain insights to help businesses making decisions. The goal of this document is to develop Prototype BI System simulation to convince IT team of how design principles and patterns design can be adaptive, maintainable, and scalable in order to make it more future proof, while answering four proposed design questions. To ensure flexability, extension without affecting the core code, reusability, and a combination of pattern to get the desired outcome and four pillars of open-object programming can be used;\n",
    "\n",
    "Design and pattern can get confusing to get complicated to understand due to technical words in the IT field, but it is possible to have it easier explained with real life situlations.\n",
    "\n",
    "### Object-Oriented Programming Design Patterns:\n",
    "\n",
    "\n",
    "* Abstract Factory\n",
    "The Abstract Factory pattern is like having a blueprint for creating different families of parts that work seamlessly together, allowing individual to switch between blueprints (factories) to create different features without worrying about incompatible parts.\n",
    "\n",
    "\n",
    "* Strategy Pattern\n",
    "Strategy Pattern as a way to swap behaviors in a system easily. It's like having different strategies for solving a problem and being able to choose the one that fits the needs. For example, the reason people are able to solve math problems is because there are strategies to solve it.\n",
    "\n",
    "\n",
    "* Observer Pattern\n",
    "The Observer Pattern is like a notification system: when something changes, things will be automatically get updated. It's a way for objects to stay informed about changes in another object without constantly checking for updates. Think of it as a notification on phone. Instead a constantly checking the message app, a notification will popup when the phone recieves the message. \n",
    "\n",
    "\n",
    "* Facade Pattern\n",
    ". The Facade Pattern is like having a helpful assistant that takes care of all the complex details behind the scenes. It provides a straightforward interface, hiding the system's complexity. For example, a Todo app. Instead of knowing how information actually travels, individuals are only required to know how to add things to a list, and how to remove things from a list.\n",
    "\n",
    "\n",
    "* Command Pattern\n",
    "\n",
    "The Command Pattern is like placing an order on an online store. Instead of directly interacting with the inventory database, you create a visual order with specific items and quantities. This visual order encapsulates your request, and it goes into a queue for processing. The system then handles the details of updating the inventory, notifying you of the order status, and managing the shipping process. \n",
    "\n",
    "* Decorator Pattern:\n",
    "\n",
    "Imagine baking a plain cake, and you want to add different toppings to make it more delicious. Instead of baking a new cake for every combination of toppings, a Decorator Pattern. Depending on the topping, the cake will gain different flavours, but the core will always be a plain cake.\n",
    "\n",
    "### Four Pillars of Object-Oriented Programming:\n",
    "\n",
    "* Encapsulation\n",
    "\n",
    "Encapsulation is like putting things in a box. It's like isolating things without affecting what's outside of the box, resulting in promoting privacy and organization.\n",
    "\n",
    "* Abstraction\n",
    "\n",
    "Abstraction is like focusing on the essential parts while ignoring unnecessary details. For example when building a chair, you don't need to know every detail what kind of wood it is being used. Just follow how to build a chair based on the instruction.\n",
    "\n",
    "* Inheritance\n",
    "\n",
    "Inheritance is like passing down traits from parents to children. For example, car and motorcycles that inherit features from the general vehicle. Step on a pedal, it goes forward. It's a way to reuse code and create a hierarchy of related classes.\n",
    "\n",
    "* Polymorphism\n",
    "\n",
    "Polymorphism is like using a universal remote control for different devices. Even though each device (object) behaves differently, It gives the same output. For example in coding, every coding follows the same pattern of functions, but written differently.\n",
    "\n",
    "\n"
   ]
  },
  {
   "cell_type": "markdown",
   "id": "7fb113d8",
   "metadata": {},
   "source": [
    "# Libraries"
   ]
  },
  {
   "cell_type": "markdown",
   "id": "4e004be1",
   "metadata": {},
   "source": [
    "from abc import ABC, abstractmethod\n"
   ]
  },
  {
   "cell_type": "markdown",
   "id": "2bf5d115",
   "metadata": {},
   "source": [
    "An abstract class is like a plan for other classes, providing a set of tasks (abstract methods) that must be done. It can't be used to create actual objects. Instead, subclasses must take this plan and fill in the details by providing implementations for the tasks. In essence, abstract classes set the requirements for what subclasses must do but don't do the tasks themselves."
   ]
  },
  {
   "cell_type": "markdown",
   "id": "f5a7a35c",
   "metadata": {},
   "source": [
    "## Design Question 1 - Dynamic Dataset Management"
   ]
  },
  {
   "cell_type": "markdown",
   "id": "ca46f04c",
   "metadata": {},
   "source": [
    " How can Object-Oriented Design Patterns and Principles be applied to\n",
    " effectively manage datasets, allowing for operations like adding, removing,\n",
    " and inspecting data elements, while also enforcing specific data rules and\n",
    " constraints?\""
   ]
  },
  {
   "cell_type": "markdown",
   "id": "2dfe07ab",
   "metadata": {},
   "source": [
    "To effectively manage datasets with operations like adding, removing, and inspecting data elements while enforcing specific data rules and constraints, several Object-Oriented Design Patterns and Principles can be applied:\n",
    "\n",
    "Composite Pattern: This pattern allows you to treat both individual objects and compositions of objects uniformly. In the context of managing datasets, you can have a DataElement interface representing individual elements and a Dataset class that can contain both individual elements and other datasets.\n",
    "\n",
    "Observer Pattern: This pattern is useful for implementing a subscription mechanism where various parts of the system can observe changes in the dataset. Observers can be notified when elements are added or removed, and they can enforce specific rules or constraints.\n",
    "\n",
    "Decorator Pattern: This pattern allows behavior to be added to an individual object, either statically or dynamically, without affecting the behavior of other objects from the same class.\n",
    "\n",
    "Strategy Pattern: This pattern enables the definition of a family of algorithms, encapsulate each one, and make them interchangeable. \n",
    "\n",
    "Command Pattern: This pattern encapsulates a request as an object, thereby allowing for parameterization of clients with different requests, queuing of requests, and logging of the status of requests. "
   ]
  },
  {
   "cell_type": "markdown",
   "id": "89d7d4fc",
   "metadata": {},
   "source": [
    "## Run the code below before testing the following features: Add element, Remove element, Get Value. This the core code to run other features."
   ]
  },
  {
   "cell_type": "code",
   "execution_count": 63,
   "id": "ab61767f",
   "metadata": {},
   "outputs": [],
   "source": [
    "# Define a base class for data elements\n",
    "class DataElement:\n",
    "    # Define a method to get the value of the data element\n",
    "    def get_value(self):\n",
    "        pass\n",
    "\n",
    "# Define a subclass for numeric data elements, inheriting from DataElement\n",
    "class NumericDataElement(DataElement):\n",
    "    # Constructor to initialize NumericDataElement with a numeric value\n",
    "    def __init__(self, value):\n",
    "        self.value = value\n",
    "\n",
    "    # Override the get_value method to return the numeric value\n",
    "    def get_value(self):\n",
    "        return self.value\n",
    "\n",
    "# Define a class for datasets, inheriting from DataElement\n",
    "class Dataset(DataElement):\n",
    "    # Constructor to initialize a dataset with an empty list of elements and observers\n",
    "    def __init__(self):\n",
    "        # List to store data elements in the dataset\n",
    "        self.elements = []\n",
    "        # List to store observers watching the dataset changes\n",
    "        self.observers = []\n",
    "\n",
    "    # Method to add a data element to the dataset\n",
    "    def add_element(self, element):\n",
    "        # Add the element to the list of elements    \n",
    "        self.elements.append(element)\n",
    "        # Notify observers about the change\n",
    "        self.notify_observers()\n",
    "\n",
    "    # Method to remove a data element from the dataset\n",
    "    def remove_element(self, element):\n",
    "        # Check if the element is in the dataset\n",
    "        if element in self.elements:\n",
    "            try:\n",
    "                # Remove the element from the list\n",
    "                self.elements.remove(element)\n",
    "                # Notify observers about the change\n",
    "                self.notify_observers()\n",
    "            except ValueError as e:\n",
    "                print(f\"Error: {e}\")\n",
    "        else:\n",
    "            print(\"Invalid choice: Element is not in the dataset.\")\n",
    "\n",
    "    # Method to get the aggregated value of all elements in the dataset\n",
    "    def get_value(self):\n",
    "        return sum(element.get_value() for element in self.elements)\n",
    "\n",
    "    # Method to add an observer to the dataset\n",
    "    def add_observer(self, observer):\n",
    "        # Add the observer to the list of observers\n",
    "        self.observers.append(observer)\n",
    "\n",
    "    # Method to remove an observer from the dataset\n",
    "    def remove_observer(self, observer):\n",
    "        # Remove the observer from the list of observers\n",
    "        self.observers.remove(observer)\n",
    "\n",
    "    # Method to notify all observers about changes in the dataset\n",
    "    def notify_observers(self):\n",
    "        for observer in self.observers:\n",
    "            # Call the update method on each observer with the dataset\n",
    "            observer.update(self)\n",
    "\n",
    "# Define a base class for data observers\n",
    "class DataObserver:\n",
    "    # Define a method to update the observer with changes in the data\n",
    "    def update(self, data_element):\n",
    "        pass\n",
    "\n",
    "# Define a subclass for a constraint enforcer, inheriting from DataObserver\n",
    "class ConstraintEnforcer(DataObserver):\n",
    "    # Override the update method to enforce a constraint (values cannot be negative)\n",
    "    def update(self, data_element):\n",
    "        if data_element.get_value() < 0:\n",
    "            print(\"Constraint Violation: Value(s) cannot be negative.\")\n",
    "\n",
    "# Create an instance of the Dataset class\n",
    "dataset = Dataset()\n",
    "\n",
    "# Create an instance of the ConstraintEnforcer class\n",
    "constraint_enforcer = ConstraintEnforcer()\n",
    "\n",
    "# Add the constraint enforcer as an observer to the dataset\n",
    "dataset.add_observer(constraint_enforcer)\n",
    "\n",
    "\n"
   ]
  },
  {
   "cell_type": "markdown",
   "id": "2fcb08e7",
   "metadata": {},
   "source": [
    "## Disadvantages of the design"
   ]
  },
  {
   "cell_type": "markdown",
   "id": "c0dc7bd9",
   "metadata": {},
   "source": [
    "Limited Constraint Handling:\n",
    "The ConstraintEnforcer class currently prints a message when a constraint violation occurs. This may not be sufficient in all cases, It requires more robust mechanism\n",
    "\n",
    "\n",
    "Print Statements for Error Handling: Using print statements for error handling might not be the best practice, especially in more complex systems. It would be better to raise exceptions with meaningful error messages that can be caught and handled appropriately.\n",
    "\n",
    "No Type Checking: The code assumes that all elements added to the dataset are instances of DataElement. Without proper type-checking, it might lead to unexpected behavior if someone adds elements of different types.\n",
    "\n",
    "Limited Data Element Types: The current implementation only includes a NumericDataElement subclass. There is probably a better way of handling data element classes for different types of data."
   ]
  },
  {
   "cell_type": "markdown",
   "id": "00698613",
   "metadata": {},
   "source": [
    "## What is the logic behind the code, and how does the information travel?"
   ]
  },
  {
   "cell_type": "markdown",
   "id": "776bb39f",
   "metadata": {},
   "source": [
    "The code is built with 5 different classes with different purposes.\n",
    "\n",
    "DataElement class is the base class. It establishes a foundation for polymorphism, that allows different types of data to be treated the same in every situations. \n",
    "\n",
    "NumericDataElement Class initializes and stores numeric value and provides an implementation for the \"get_value()\" It uses inheritance and polymorphism to allow it be used to exchange with other types of data elements. \n",
    "\n",
    "Dataset class has the purpose of managing a collection of elements. It provides methods to add, remove and calculate value. \n",
    "\n",
    "DataObserver class is an abstract class that representing an observer in the observer pattern. The class allows different types of observers to be notified when changes occurs in the dataset.\n",
    "\n",
    "ConstraintEnforcer class. The class checks and enforce specific constraints on data element when it is notified. Meaning, it checks if the value is negative.\n",
    "\n",
    "The information flow involves the Dataset acting as a subject, and the ConstraintEnforcer acting as an observer. When elements are added or removed from the dataset, the Dataset notifies its observers, triggering the update method in ConstraintEnforcer. If the constraint is violated, a message is printed to indicate the issue. The Observer Pattern facilitates decoupling between the subject (Dataset) and observers (ConstraintEnforcer), allowing for flexibility and extensibility in handling different types of observers or constraints.\n"
   ]
  },
  {
   "cell_type": "markdown",
   "id": "e3f59fe2",
   "metadata": {},
   "source": [
    "# Testing blocks; adding, removing and recieve  value."
   ]
  },
  {
   "cell_type": "markdown",
   "id": "7144ea83",
   "metadata": {},
   "source": [
    "### Adding elements. Feel free to change values of the NumericDataElements. Currently, it is possible to add 5 values, but it is possible to add more.\n"
   ]
  },
  {
   "cell_type": "code",
   "execution_count": 64,
   "id": "0125f6ff",
   "metadata": {},
   "outputs": [
    {
     "name": "stdout",
     "output_type": "stream",
     "text": [
      "Elements in the dataset after adding:\n",
      "Element Value: 10\n",
      "Element Value: 30\n",
      "Element Value: 1\n",
      "Element Value: 20\n",
      "Element Value: 20\n"
     ]
    }
   ],
   "source": [
    "# Create instances of NumericDataElement\n",
    "element1 = NumericDataElement(10)\n",
    "element2 = NumericDataElement(30)\n",
    "element3 = NumericDataElement(1)\n",
    "element4 = NumericDataElement(20)\n",
    "element5 = NumericDataElement(20)\n",
    "\n",
    "# Create a Dataset\n",
    "dataset = Dataset()\n",
    "constraint_enforcer = ConstraintEnforcer()\n",
    "dataset.add_observer(constraint_enforcer)\n",
    "\n",
    "# Add elements to the dataset\n",
    "dataset.add_element(element1)\n",
    "dataset.add_element(element2)\n",
    "dataset.add_element(element3)\n",
    "dataset.add_element(element4)\n",
    "dataset.add_element(element5)\n",
    "\n",
    "\n",
    "# Print the elements and their values\n",
    "print(\"Elements in the dataset after adding:\")\n",
    "for element in dataset.elements:\n",
    "    print(f\"Element Value: {element.get_value()}\")"
   ]
  },
  {
   "cell_type": "markdown",
   "id": "0d1b9e22",
   "metadata": {},
   "source": [
    "### Remove elements. Feel free to change which element to be removed. Element 1-5"
   ]
  },
  {
   "cell_type": "code",
   "execution_count": 171,
   "id": "b0dd6b1e",
   "metadata": {},
   "outputs": [
    {
     "name": "stdout",
     "output_type": "stream",
     "text": [
      "\n",
      "Elements in the dataset after removal:\n",
      "Element Value: 10\n",
      "Element Value: 30\n",
      "Element Value: 20\n",
      "Element Value: 20\n"
     ]
    }
   ],
   "source": [
    "dataset.remove_element(element3)\n",
    "\n",
    "# Print the elements and their values after removal\n",
    "print(\"\\nElements in the dataset after removal:\")\n",
    "for element in dataset.elements:\n",
    "    print(f\"Element Value: {element.get_value()}\")\n",
    "    \n",
    "#Putting a index that is not in the current dataset \n",
    "#will give an error message."
   ]
  },
  {
   "cell_type": "markdown",
   "id": "bc14cb33",
   "metadata": {},
   "source": [
    "### Getting the total value and displaying what is currently in the dataset."
   ]
  },
  {
   "cell_type": "code",
   "execution_count": 65,
   "id": "77fe7dcc",
   "metadata": {},
   "outputs": [
    {
     "name": "stdout",
     "output_type": "stream",
     "text": [
      "\n",
      "Dataset Content:\n",
      "Element Value: 10\n",
      "Element Value: 30\n",
      "Element Value: 1\n",
      "Element Value: 20\n",
      "Element Value: 20\n",
      "\n",
      "Total Dataset Value: 81\n"
     ]
    }
   ],
   "source": [
    "\n",
    "# Block to showcase get_value operation\n",
    "# Calculate and print the total value of the dataset\n",
    "\n",
    "# Display the content of the dataset\n",
    "\n",
    "print(\"\\nDataset Content:\")\n",
    "for element in dataset.elements:\n",
    "    print(f\"Element Value: {element.get_value()}\")\n",
    "\n",
    "total_value = dataset.get_value()\n",
    "print(f\"\\nTotal Dataset Value: {total_value}\")\n",
    "\n"
   ]
  },
  {
   "cell_type": "markdown",
   "id": "5b7bd55c",
   "metadata": {},
   "source": [
    "## Showcasing Error message when a value is negative"
   ]
  },
  {
   "cell_type": "code",
   "execution_count": 66,
   "id": "7f4047d4",
   "metadata": {},
   "outputs": [
    {
     "name": "stdout",
     "output_type": "stream",
     "text": [
      "Constraint Violation: Value(s) cannot be negative.\n",
      "Elements in the dataset after adding:\n",
      "Element Value: -10\n",
      "Element Value: 30\n",
      "Element Value: -1\n",
      "Element Value: 20\n",
      "Element Value: -20\n"
     ]
    }
   ],
   "source": [
    "# Create instances of NumericDataElement\n",
    "element1 = NumericDataElement(-10)\n",
    "element2 = NumericDataElement(30)\n",
    "element3 = NumericDataElement(-1)\n",
    "element4 = NumericDataElement(20)\n",
    "element5 = NumericDataElement(-20)\n",
    "\n",
    "# Create a Dataset\n",
    "dataset = Dataset()\n",
    "constraint_enforcer = ConstraintEnforcer()\n",
    "dataset.add_observer(constraint_enforcer)\n",
    "\n",
    "# Add elements to the dataset\n",
    "dataset.add_element(element1)\n",
    "dataset.add_element(element2)\n",
    "dataset.add_element(element3)\n",
    "dataset.add_element(element4)\n",
    "dataset.add_element(element5)\n",
    "\n",
    "\n",
    "# Print the elements and their values\n",
    "print(\"Elements in the dataset after adding:\")\n",
    "for element in dataset.elements:\n",
    "    print(f\"Element Value: {element.get_value()}\")"
   ]
  },
  {
   "cell_type": "markdown",
   "id": "23ac9fb2",
   "metadata": {},
   "source": [
    "If one of the Element values contain a value less than 0, it will trigger a Constraint Violation."
   ]
  },
  {
   "cell_type": "markdown",
   "id": "b2dcb877",
   "metadata": {},
   "source": [
    "## How is the system Future-Proof?"
   ]
  },
  {
   "cell_type": "markdown",
   "id": "8bc47f85",
   "metadata": {},
   "source": [
    "The classes of DataElement and NumericDataElement is structred in a way that allows extension or modification without affecting the entire system due to the isolation. The DataElement also uses abstraction that support new types, and NumericDataElement uses Polymorphism that allows for easy integration of various data type.\n",
    "\n",
    "The DataObserver and ConstraintEnforcer classes provides flexibility in how the system responds to changes, resulting new observers with different contraint can be added or existing one to be modified without effect the logic of the dataset. In another word, it is like adding new rules and changing the rules without having to completely halt the system.\n",
    "\n"
   ]
  },
  {
   "cell_type": "markdown",
   "id": "159393c3",
   "metadata": {},
   "source": [
    "## Design Question 2 - Flexible Calculation Methods"
   ]
  },
  {
   "cell_type": "markdown",
   "id": "53e0db16",
   "metadata": {},
   "source": [
    "In what ways can Object-Oriented Design facilitate the flexibility of choosing different statistical methods (such as mean, median, mode) for dataset analysis, and how can these methods be dynamically interchanged for each dataset instance?"
   ]
  },
  {
   "cell_type": "markdown",
   "id": "98c29c8f",
   "metadata": {},
   "source": [
    "To enhance the flexibility of selecting diverse statistical methods for dataset analysis, Object-Oriented Design (OOD) employs three key design patterns: the Strategy Pattern, Factory Method Pattern, and Command Pattern.\n",
    "\n",
    "\n",
    "The Strategy Pattern organizes a family of algorithms, and encapsulates each one to enables them to be easily interchangeable. This pattern allows users to select a specific algorithm for calculations, fostering adaptability in statistical method choices within the dataset analysis.\n",
    "\n",
    "The Factory Method Pattern introduces an interface for creating instances of a class with the responsibility of determining the type of instances to subclasses. This pattern proves useful in dynamically creating different statistical method instances, offering a flexible approach to instantiate specific algorithms during dataset analysis.\n",
    "\n",
    "The Command Pattern transforms a request into a self-contained object. This design allows the parameters of the request to be manipulated, stored, and executed at various times. In the context of dataset analysis, the Command Pattern provides a structured way to represent and interchange statistical methods, enhancing the adaptability of the system."
   ]
  },
  {
   "cell_type": "code",
   "execution_count": 159,
   "id": "36ac6de2",
   "metadata": {},
   "outputs": [],
   "source": [
    "# Define a base class for statistical methods\n",
    "class StatisticalMethod:\n",
    "# Define an abstract method for calculating statistics on a dataset\n",
    "    def calculate(self, *args, **kwargs):\n",
    "# Raise NotImplementedError with a more descriptive message\n",
    "        raise NotImplementedError(\"Subclasses must implement the calculate method with the appropriate logic.\")\n",
    "\n",
    "# Define a subclass for the mean statistical method\n",
    "class Mean(StatisticalMethod):\n",
    "    # Override the calculate method to calculate the mean of the dataset\n",
    "    def calculate(self, dataset, weights=None):\n",
    "        # Raise ValueError if the dataset is empty\n",
    "        if not dataset:\n",
    "            raise ValueError(\"Empty dataset provided. Cannot calculate mean.\")\n",
    "\n",
    "# Check if weights are provided for a weighted mean calculation\n",
    "        if weights is None:\n",
    "            return sum(dataset) / len(dataset)\n",
    "        else:\n",
    "            # Perform weighted mean calculation\n",
    "            return sum(x * w for x, w in zip(dataset, weights)) / sum(weights)\n",
    "\n",
    "# Define a subclass for the median statistical method\n",
    "class Median(StatisticalMethod):\n",
    "    # Override the calculate method to calculate the median of the dataset\n",
    "    def calculate(self, dataset):\n",
    "        # Raise ValueError if the dataset is empty\n",
    "        if not dataset:\n",
    "            raise ValueError(\"Empty dataset provided. Cannot calculate median.\")\n",
    "\n",
    "        # Use quickselect algorithm for finding the median without fully sorting the dataset\n",
    "        sorted_data = sorted(dataset)\n",
    "        n = len(sorted_data)\n",
    "\n",
    "        middle = n // 2\n",
    "        # Check if the dataset has an even number of elements\n",
    "        if n % 2 == 0:\n",
    "            return (sorted_data[middle - 1] + sorted_data[middle]) / 2\n",
    "        else:\n",
    "            return sorted_data[middle]\n",
    "\n",
    "# Define a subclass for the mode statistical method\n",
    "class Mode(StatisticalMethod):\n",
    "    # Override the calculate method to calculate the mode of the dataset\n",
    "    def calculate(self, dataset):\n",
    "        # Raise ValueError if the dataset is empty\n",
    "        if not dataset:\n",
    "            raise ValueError(\"Empty dataset provided. Cannot calculate mode.\")\n",
    "\n",
    "# Count occurrences using a dictionary\n",
    "        counts = {}\n",
    "        for value in dataset:\n",
    "            counts[value] = counts.get(value, 0) + 1\n",
    "\n",
    "        max_count = max(counts.values())\n",
    "\n",
    "# Check if there is a unique mode or multiple modes\n",
    "        modes = [key for key, value in counts.items() if value == max_count]\n",
    "        return modes if len(modes) > 1 else modes[0]\n",
    "\n",
    "# Define a class representing a dataset with a chosen statistical method\n",
    "class Dataset:\n",
    "    # Constructor to initialize a dataset with a statistical method and an empty data list\n",
    "    def __init__(self, statistical_method, initial_data=None):\n",
    "        self.statistical_method = statistical_method\n",
    "        # Initialize the dataset with the provided initial data or an empty list\n",
    "        self._data = [] if initial_data is None else list(initial_data)\n",
    "\n",
    "# Method to set the statistical method for the dataset\n",
    "    def set_statistical_method(self, statistical_method):\n",
    "        self.statistical_method = statistical_method\n",
    "\n",
    "# Method to read data from an iterable and update the dataset\n",
    "    def read_data(self, data):\n",
    "        self._data = list(data)\n",
    "\n",
    "# Method to add data to the dataset\n",
    "    def add_data(self, value):\n",
    "        self._data.append(value)\n",
    "\n",
    "# Method to append multiple data values to the dataset\n",
    "    def append_data(self, values):\n",
    "        self._data.extend(values)\n",
    "\n",
    "# Method to remove specified data values from the dataset\n",
    "    def remove_data(self, values):\n",
    "        for value in values:\n",
    "            if value in self._data:\n",
    "                self._data.remove(value)\n",
    "            else:\n",
    "                raise ValueError(f\"Value {value} not found in the dataset.\")\n",
    "\n",
    "# Method to modify data at a specific index in the dataset\n",
    "    def modify_data(self, index, value):\n",
    "# Check if the index is within bounds\n",
    "        if 0 <= index < len(self._data):\n",
    "            self._data[index] = value\n",
    "        else:\n",
    "# Raise IndexError if the index is out of bounds\n",
    "            raise IndexError(\"Invalid index: Index out of bounds.\")\n",
    "\n",
    "# Method to analyze the dataset using the chosen statistical method\n",
    "    def analyze(self, *args, **kwargs):\n",
    "# Check if all elements in the dataset are numeric\n",
    "        if not all(isinstance(x, (int, float)) for x in self._data):\n",
    "            raise TypeError(\"Dataset must contain only numeric values.\")\n",
    "        return self.statistical_method.calculate(self._data, *args, **kwargs)\n",
    "\n",
    "# Method to get a copy of the internal data\n",
    "    def get_data(self):\n",
    "        return list(self._data)\n",
    "\n",
    "# Method to iterate over the internal data\n",
    "    def iterate_data(self):\n",
    "        return iter(self._data)\n"
   ]
  },
  {
   "cell_type": "markdown",
   "id": "3457c771",
   "metadata": {},
   "source": [
    "## Testing Blocks: Mean, Median, Mode. The calculation will follow the dataset above."
   ]
  },
  {
   "cell_type": "markdown",
   "id": "1840d275",
   "metadata": {},
   "source": [
    "### Run the dataset after core code"
   ]
  },
  {
   "cell_type": "code",
   "execution_count": 161,
   "id": "f1e02bd3",
   "metadata": {},
   "outputs": [],
   "source": [
    "dataset = [1, 20, 529, 11, 182, 121, 201]"
   ]
  },
  {
   "cell_type": "code",
   "execution_count": 162,
   "id": "08f25fc1",
   "metadata": {},
   "outputs": [
    {
     "name": "stdout",
     "output_type": "stream",
     "text": [
      "Mean Result: 152.14285714285714\n"
     ]
    }
   ],
   "source": [
    "\n",
    "# Mean calculation\n",
    "mean_method = Mean()\n",
    "dataset_instance = Dataset(mean_method, dataset)\n",
    "result_mean = dataset_instance.analyze()\n",
    "print(f\"Mean Result: {result_mean}\")\n"
   ]
  },
  {
   "cell_type": "code",
   "execution_count": 163,
   "id": "bbd11c36",
   "metadata": {},
   "outputs": [
    {
     "name": "stdout",
     "output_type": "stream",
     "text": [
      "Median Result: 121\n"
     ]
    }
   ],
   "source": [
    "# Median calculation\n",
    "median_method = Median()\n",
    "dataset_instance.set_statistical_method(median_method)\n",
    "result_median = dataset_instance.analyze()\n",
    "print(f\"Median Result: {result_median}\")"
   ]
  },
  {
   "cell_type": "code",
   "execution_count": 164,
   "id": "4cc35181",
   "metadata": {},
   "outputs": [
    {
     "name": "stdout",
     "output_type": "stream",
     "text": [
      "Mode Result: [1, 20, 529, 11, 182, 121, 201]\n"
     ]
    }
   ],
   "source": [
    "# Mode calculation\n",
    "mode_method = Mode()\n",
    "dataset_instance.set_statistical_method(mode_method)\n",
    "result_mode = dataset_instance.analyze()\n",
    "print(f\"Mode Result: {result_mode}\")"
   ]
  },
  {
   "cell_type": "code",
   "execution_count": null,
   "id": "158f6793",
   "metadata": {},
   "outputs": [],
   "source": []
  },
  {
   "cell_type": "markdown",
   "id": "76589ff7",
   "metadata": {},
   "source": [
    "## What is the logic behind the code, and how does the information travel?"
   ]
  },
  {
   "cell_type": "markdown",
   "id": "8221a1bc",
   "metadata": {},
   "source": [
    "The logic behind the code involves encapsulating statistical methods into separate classes, allowing for easy extension with new statistical calculations. The calculate method in each statistical method subclass specifies the logic for that particular statistical operation. The Dataset class contains an instance of a statistical method, and by calling its analyze method, the dataset's data is processed according to the specified statistical method.\n",
    "\n",
    "For example, when you create a Dataset object and set its statistical method to Mean, calling analyze will compute the mean of the dataset. Similarly, you can switch to Median or Mode for different types of statistical analyses. This modular and extensible design adheres to OOP principles, promoting code reuse and maintainability."
   ]
  },
  {
   "cell_type": "markdown",
   "id": "f80747e3",
   "metadata": {},
   "source": [
    "## How is the system Future-Proof?"
   ]
  },
  {
   "cell_type": "markdown",
   "id": "adad77d7",
   "metadata": {},
   "source": [
    "The system exhibits certain characteristics that contribute to its adaptability and potential future-proofing:\n",
    "\n",
    "Abstraction through Object-Oriented Design:\n",
    "\n",
    "The use of classes and inheritance promotes a high level of abstraction. Each statistical method is encapsulated within a class, and the StatisticalMethod interface ensures a consistent structure for future statistical methods.\n",
    "\n",
    "Scalability and Extensibility:\n",
    "\n",
    "The system can easily build new statistical methods by creating additional subclasses of StatisticalMethod. This extensibility allows the system to evolve with new requirements and statistical techniques.\n",
    "\n",
    "Flexibility in Dataset Handling:\n",
    "\n",
    "The Dataset class is designed to work with different statistical methods. By allowing dynamic changes to the statistical method associated with a dataset using set_statistical_method, the system becomes flexible in handling diverse analysis requirements.\n",
    "\n",
    "Encapsulation of Statistical Logic:\n",
    "Each statistical method encapsulates its specific logic within its class. This encapsulation promotes modular design, making it easier to modify or extend individual statistical methods without affecting the overall system.\n",
    "\n",
    "Clear Separation of Concerns:\n",
    "The responsibilities of statistical calculation, dataset management, and analysis are well-separated among classes. This separation makes the system more maintainable and allows changes to one aspect without affecting the others.\n"
   ]
  },
  {
   "cell_type": "markdown",
   "id": "d9d273a1",
   "metadata": {},
   "source": [
    "## Disadvantages of the design"
   ]
  },
  {
   "cell_type": "markdown",
   "id": "92c56968",
   "metadata": {},
   "source": [
    "- No Type Checking: \n",
    "\n",
    "The code does not perform explicit type checking on the input datasets. Adding type checking or validation could enhance robustness by ensuring that the input data is of the expected type.\n",
    "\n",
    "- No Support for NaN Handling:\n",
    "\n",
    "The code does not handle datasets containing NaN (Not a Number) values. Adding support for NaN handling could improve the versatility of the code.\n",
    "\n",
    "- No Support for Additional Statistical Methods:\n",
    "\n",
    "The current implementation is limited to mean, median, and mode. If there is a need to add more statistical methods in the future, the code will need modification.\n"
   ]
  },
  {
   "cell_type": "markdown",
   "id": "cd4a48fd",
   "metadata": {},
   "source": [
    "## Design Question 3 - Decoupled Frontend and Backend"
   ]
  },
  {
   "cell_type": "markdown",
   "id": "f38add67",
   "metadata": {},
   "source": [
    "How can Object-Oriented Design Patterns and Principles be used to\n",
    "decouple the Front End and Back End of the BI system, ensuring that\n",
    "'reporting widgets' can dynamically subscribe to and unsubscribe from\n",
    "datasets for live updates?\""
   ]
  },
  {
   "cell_type": "markdown",
   "id": "27e643ea",
   "metadata": {},
   "source": [
    "To decouple the Front End and Back End of the BI system and enable dynamic subscription and unsubscription of reporting widgets to datasets for live updates, Observer Pattern can be used. While including all four pillars of Object Orientated Programming (Encapsulation, Abstraction, Inheritance and Polymorphism.)"
   ]
  },
  {
   "cell_type": "markdown",
   "id": "58ab225d",
   "metadata": {},
   "source": [
    "## Run the code below before testing the following features: Subscription and Not Subscribed."
   ]
  },
  {
   "cell_type": "code",
   "execution_count": 346,
   "id": "dc37c5c5",
   "metadata": {},
   "outputs": [],
   "source": [
    "from abc import ABC, abstractmethod\n",
    "\n",
    "# Define an interface for datasets\n",
    "class Dataset(ABC):\n",
    "    def __init__(self):\n",
    "        # List to store reporting widgets subscribed to the dataset\n",
    "        self.reporting_widgets = []\n",
    "\n",
    "# Method for reporting widgets to subscribe to the dataset\n",
    "    def subscribe(self, reporting_widget):\n",
    "        if reporting_widget not in self.reporting_widgets:\n",
    "            self.reporting_widgets.append(reporting_widget)\n",
    "            reporting_widget.on_subscribe()  # Call a method when subscribed\n",
    "            self.notify()\n",
    "\n",
    "# Method for reporting widgets to unsubscribe from the dataset\n",
    "    def unsubscribe(self, reporting_widget):\n",
    "        # Check if the widget is in the list before attempting removal\n",
    "        if reporting_widget in self.reporting_widgets:\n",
    "            try:\n",
    "                self.reporting_widgets.remove(reporting_widget)\n",
    "                reporting_widget.on_unsubscribe()  # Call a method when unsubscribed\n",
    "                if reporting_widget not in self.reporting_widgets:\n",
    "                    self.notify()\n",
    "            except Exception as e:\n",
    "                print(f\"Error during unsubscribe: {e}\")\n",
    "        else:\n",
    "            print(\"Reporting widget is not subscribed.\")\n",
    "\n",
    "# Abstract method to be implemented by concrete dataset classes for notification\n",
    "    @abstractmethod\n",
    "    def notify(self):\n",
    "        pass\n",
    "\n",
    "# Define a concrete implementation of a dataset\n",
    "class ConcreteDataset(Dataset):\n",
    "    # Constructor to initialize a dataset with data and an empty list of reporting widgets\n",
    "    def __init__(self, data):\n",
    "        super().__init__()\n",
    "        self.data = data\n",
    "\n",
    "# Implementation of the notify method to update reporting widgets\n",
    "    def notify(self):\n",
    "        for widget in self.reporting_widgets:\n",
    "            widget.update(self.data)\n",
    "\n",
    "# Define an interface for reporting widgets\n",
    "class ReportingWidget(ABC):\n",
    "    # Abstract method to be implemented by concrete reporting widget classes\n",
    "    @abstractmethod\n",
    "    def update(self, data):\n",
    "        pass\n",
    "\n",
    "# Method to be called when the widget is subscribed\n",
    "    def on_subscribe(self):\n",
    "        self.log_info(\"Reporting widget is subscribed\")\n",
    "\n",
    "# Method to be called when the widget is unsubscribed\n",
    "    def on_unsubscribe(self):\n",
    "        self.log_info(\"Reporting widget is unsubscribed\")\n",
    "\n",
    "# Abstract method for logging info messages\n",
    "    @abstractmethod\n",
    "    def log_info(self, message):\n",
    "        pass\n",
    "\n",
    "# Define a concrete implementation of a reporting widget\n",
    "class ConcreteReportingWidget(ReportingWidget):\n",
    "    # Implementation of the update method to receive and process updates\n",
    "    def update(self, data):\n",
    "        self.log_info(f\"Widget received update: {data}\")\n",
    "\n",
    "    # Implementation of the log_info method\n",
    "    def log_info(self, message):\n",
    "        print(message)\n",
    "\n",
    "\n",
    "# Core code with a dataset\n",
    "core_dataset = ConcreteDataset(data=[1, 2, 3, 4, 5])"
   ]
  },
  {
   "cell_type": "markdown",
   "id": "6e4b02f9",
   "metadata": {},
   "source": [
    "## Testing Blocks: Subscription and Unsubscription"
   ]
  },
  {
   "cell_type": "markdown",
   "id": "4f896462",
   "metadata": {},
   "source": [
    "### Testing Subsription"
   ]
  },
  {
   "cell_type": "code",
   "execution_count": 347,
   "id": "362fa4d1",
   "metadata": {},
   "outputs": [
    {
     "name": "stdout",
     "output_type": "stream",
     "text": [
      "Reporting widget is subscribed\n",
      "Widget received update: [1, 2, 3, 4, 5]\n",
      "Notifying subscribed widget:\n",
      "Widget received update: [1, 2, 3, 4, 5]\n"
     ]
    }
   ],
   "source": [
    "# Subscribed Widget\n",
    "subscribed_widget = ConcreteReportingWidget()\n",
    "\n",
    "# Subscribe the widget to the dataset\n",
    "core_dataset.subscribe(subscribed_widget)\n",
    "\n",
    "# Notify the widget about dataset changes\n",
    "print(\"Notifying subscribed widget:\")\n",
    "core_dataset.notify()"
   ]
  },
  {
   "cell_type": "markdown",
   "id": "47d4a715",
   "metadata": {},
   "source": [
    "### Testing Not Subscribed message"
   ]
  },
  {
   "cell_type": "code",
   "execution_count": 350,
   "id": "0e534787",
   "metadata": {},
   "outputs": [
    {
     "name": "stdout",
     "output_type": "stream",
     "text": [
      "Notifying not subscribed widget:\n",
      "Widget received update: [1, 2, 3, 4, 5]\n"
     ]
    }
   ],
   "source": [
    "# Not Subscribed Widget\n",
    "not_subscribed_widget = ConcreteReportingWidget()\n",
    "\n",
    "# Notify the widget about dataset changes (widget is not subscribed)\n",
    "print(\"Notifying not subscribed widget:\")\n",
    "core_dataset.notify()\n"
   ]
  },
  {
   "cell_type": "markdown",
   "id": "cac377f6",
   "metadata": {},
   "source": [
    "## Disadvantages of the design"
   ]
  },
  {
   "cell_type": "markdown",
   "id": "0b5d903f",
   "metadata": {},
   "source": [
    "Error Handling:\n",
    "\n",
    "The error handling in the unsubscribe method is minimal. Adding more robust error handling, especially in production scenarios, is essential for reliability.\n",
    "\n",
    "Limited Confirmation Mechanism:\n",
    "\n",
    "There's no confirmation mechanism or callback after unsubscribing. Adding a confirmation callback or acknowledgment could enhance the reliability of the unsubscribe process.\n",
    "\n",
    "Synchronous Notification:\n",
    "\n",
    "The notify method updates all reporting widgets synchronously. In scenarios with a large number of reporting widgets or time-consuming operations, this might impact performance.\n"
   ]
  },
  {
   "cell_type": "markdown",
   "id": "e7c199bb",
   "metadata": {},
   "source": [
    "## How is the system Future-Proof?"
   ]
  },
  {
   "cell_type": "markdown",
   "id": "ff9c41d7",
   "metadata": {},
   "source": [
    "Abstraction and Interface Usage (ABC):\n",
    "\n",
    "By defining an abstract class (Dataset) and interfaces (ReportingWidget), the system promotes a level of abstraction. This allows for future extension by introducing new types of datasets or reporting widgets without modifying the existing code.\n",
    "\n",
    "Separation of the core code: \n",
    "\n",
    "The system separates concerns between datasets and reporting widgets. This modular design allows for easy modifications or additions to specific components without affecting the entire system. For example, adding a new type of dataset or reporting widget can be done independently.\n",
    "\n",
    "Dynamic Subscription/Unsubscription:\n",
    "\n",
    "The system allows reporting widgets to dynamically subscribe and unsubscribe from datasets. This flexibility caters to potential changes in requirements, enabling widgets to adapt to different datasets or vice versa without tightly coupling the components.\n",
    "\n",
    "Extensibility through Inheritance:\n",
    "\n",
    "The use of inheritance, particularly with the ConcreteDataset and ConcreteReportingWidget classes, facilitates extensibility. New types of datasets or reporting widgets can inherit from the existing classes, leveraging common functionality while introducing specific behaviors."
   ]
  },
  {
   "cell_type": "code",
   "execution_count": null,
   "id": "0bceb140",
   "metadata": {},
   "outputs": [],
   "source": []
  },
  {
   "cell_type": "markdown",
   "id": "5c72dd99",
   "metadata": {},
   "source": [
    "## What is the logic behind the code, and how does the information travel?"
   ]
  },
  {
   "cell_type": "markdown",
   "id": "b2398a09",
   "metadata": {},
   "source": [
    "Dataset Class (Subject): The Dataset class is the subject that maintains a list of its dependents, the reporting widgets. It has methods subscribe and unsubscribe for reporting widgets to register and deregister interest.\n",
    "\n",
    "ConcreteDataset Class: This class extends Dataset and implements the notify method. When the dataset changes (in this case, when a reporting widget unsubscribes), it iterates through its list of reporting widgets and calls the update method on each one.\n",
    "\n",
    "ReportingWidget Interface (Observer): The ReportingWidget is the observer interface that defines the update method, which will be called by the subject when its state changes.\n",
    "\n",
    "ConcreteReportingWidget Class: This class implements the ReportingWidget interface. Its update method is called by the ConcreteDataset when it notifies its reporting widgets. It prints a message indicating that the widget has received an update.\n",
    "\n",
    "The information travels in the following way: When a reporting widget subscribes to a dataset (subscribe), it adds itself to the dataset's list of reporting widgets. When the dataset's state changes, it calls the notify method, which then calls the update method on each reporting widget, and passing the updated data. The reporting widgets can then respond to the update and displaying the new data."
   ]
  },
  {
   "cell_type": "code",
   "execution_count": null,
   "id": "d6344dc6",
   "metadata": {},
   "outputs": [],
   "source": []
  },
  {
   "cell_type": "markdown",
   "id": "85a39cdd",
   "metadata": {},
   "source": [
    "## Design Question 4 - Customizable Branding"
   ]
  },
  {
   "cell_type": "markdown",
   "id": "0fa5733e",
   "metadata": {},
   "source": [
    "What Object-Oriented strategies can be employed to allow for customizable\n",
    "and consistent branding elements (like logos) across all BI widgets, catering to the needs of different client companies?"
   ]
  },
  {
   "cell_type": "markdown",
   "id": "cfadd790",
   "metadata": {},
   "source": [
    "To address the need for customizable and consistent branding elements across BI widgets for different client companies, we can employ the Abstract Factory Pattern. This pattern involves defining an abstract factory interface that declares methods for creating and relating objects, such as buttons and charts. Concrete implementations of the abstract factory represent specific companies, providing individualized instances of buttons and charts with unique branding elements, like logos."
   ]
  },
  {
   "cell_type": "markdown",
   "id": "184d953c",
   "metadata": {},
   "source": [
    "## Run the code below before testing the following features: Button and Chart"
   ]
  },
  {
   "cell_type": "code",
   "execution_count": 351,
   "id": "0381af76",
   "metadata": {},
   "outputs": [],
   "source": [
    "from abc import ABC, abstractmethod\n",
    "\n",
    "# Widget interface\n",
    "class Widget(ABC):\n",
    "    @abstractmethod\n",
    "    def display(self):\n",
    "        pass\n",
    "\n",
    "# Abstract product classes\n",
    "class AbstractButton(Widget):\n",
    "    pass\n",
    "\n",
    "class AbstractChart(Widget):\n",
    "    pass\n",
    "\n",
    "# Concrete product classes for Company A\n",
    "class CompanyAButton(AbstractButton):\n",
    "    def display(self):\n",
    "        print(\"Displaying Company A Button\")\n",
    "\n",
    "class CompanyAChart(AbstractChart):\n",
    "    def display(self):\n",
    "        print(\"Displaying Company A Chart\")\n",
    "\n",
    "# Concrete product classes for Company B\n",
    "class CompanyBButton(AbstractButton):\n",
    "    def display(self):\n",
    "        print(\"Displaying Company B Button\")\n",
    "\n",
    "class CompanyBChart(AbstractChart):\n",
    "    def display(self):\n",
    "        print(\"Displaying Company B Chart\")\n",
    "\n",
    "# Concrete product classes for Company C\n",
    "class CompanyCButton(AbstractButton):\n",
    "    def display(self):\n",
    "        print(\"Displaying Company C Button\")\n",
    "\n",
    "class CompanyCChart(AbstractChart):\n",
    "    def display(self):\n",
    "        print(\"Displaying Company C Chart\")\n",
    "\n",
    "# Abstract factory interface\n",
    "class WidgetFactory(ABC):\n",
    "    @abstractmethod\n",
    "    def create_button(self) -> AbstractButton:\n",
    "        pass\n",
    "\n",
    "    @abstractmethod\n",
    "    def create_chart(self) -> AbstractChart:\n",
    "        pass\n",
    "\n",
    "# Concrete factories\n",
    "class CompanyAWidgetFactory(WidgetFactory):\n",
    "    def create_button(self) -> AbstractButton:\n",
    "        return CompanyAButton()\n",
    "\n",
    "    def create_chart(self) -> AbstractChart:\n",
    "        return CompanyAChart()\n",
    "\n",
    "class CompanyBWidgetFactory(WidgetFactory):\n",
    "    def create_button(self) -> AbstractButton:\n",
    "        return CompanyBButton()\n",
    "\n",
    "    def create_chart(self) -> AbstractChart:\n",
    "        return CompanyBChart()\n",
    "\n",
    "class CompanyCWidgetFactory(WidgetFactory):\n",
    "    def create_button(self) -> AbstractButton:\n",
    "        return CompanyCButton()\n",
    "\n",
    "    def create_chart(self) -> AbstractChart:\n",
    "        return CompanyCChart()\n",
    "\n",
    "# Client code\n",
    "def client_code(factory: WidgetFactory, widget_type: str):\n",
    "    if widget_type == \"Button\":\n",
    "        widget = factory.create_button()\n",
    "    elif widget_type == \"Chart\":\n",
    "        widget = factory.create_chart()\n",
    "    else:\n",
    "        raise ValueError(\"Invalid widget type\")\n",
    "\n",
    "    widget.display()\n",
    "\n",
    "# Example usage\n",
    "client_code(CompanyAWidgetFactory(), \"Button\")\n",
    "client_code(CompanyBWidgetFactory(), \"Chart\")\n"
   ]
  },
  {
   "cell_type": "markdown",
   "id": "7300d570",
   "metadata": {},
   "source": [
    "## Testing blocks: Testing button and Chart for company A and B"
   ]
  },
  {
   "cell_type": "markdown",
   "id": "ab07606c",
   "metadata": {},
   "source": [
    "### Testing company A"
   ]
  },
  {
   "cell_type": "code",
   "execution_count": 357,
   "id": "cd30a599",
   "metadata": {},
   "outputs": [
    {
     "name": "stdout",
     "output_type": "stream",
     "text": [
      "Displaying Company A Button\n",
      "Displaying Company A Chart\n"
     ]
    }
   ],
   "source": [
    "client_code(CompanyAWidgetFactory(), \"Button\")\n",
    "client_code(CompanyAWidgetFactory(), \"Chart\")"
   ]
  },
  {
   "cell_type": "markdown",
   "id": "2335245e",
   "metadata": {},
   "source": [
    "### Testing company B and C"
   ]
  },
  {
   "cell_type": "code",
   "execution_count": 360,
   "id": "4f1d5eeb",
   "metadata": {},
   "outputs": [
    {
     "name": "stdout",
     "output_type": "stream",
     "text": [
      "Displaying Company B Button\n",
      "Displaying Company B Button\n",
      "Displaying Company B Button\n",
      "Displaying Company B Chart\n",
      "Displaying Company C Chart\n",
      "Displaying Company C Chart\n"
     ]
    }
   ],
   "source": [
    "client_code(CompanyBWidgetFactory(), \"Button\")\n",
    "client_code(CompanyBWidgetFactory(), \"Button\")\n",
    "client_code(CompanyBWidgetFactory(), \"Button\")\n",
    "client_code(CompanyBWidgetFactory(), \"Chart\")\n",
    "client_code(CompanyCWidgetFactory(), \"Chart\")\n",
    "client_code(CompanyCWidgetFactory(), \"Chart\")\n"
   ]
  },
  {
   "cell_type": "code",
   "execution_count": null,
   "id": "8cae389e",
   "metadata": {},
   "outputs": [],
   "source": []
  },
  {
   "cell_type": "markdown",
   "id": "b34c4ae4",
   "metadata": {},
   "source": [
    "## How is the system Future-Proof?"
   ]
  },
  {
   "cell_type": "markdown",
   "id": "1b7e7a54",
   "metadata": {},
   "source": [
    "The system is designed to be future-proof in the context of customization and extensibility. The use of the Abstract Factory Pattern allows the system to accommodate future changes or additions without modifying the existing client code. Here's how:\n",
    "\n",
    "Adding New Companies:\n",
    "\n",
    "If a new company (Company C, for example) wants to be accommodated, it can be introduce a new concrete factory (CompanyCWidgetFactory) that implements the WidgetFactory interface. The client code can then be extended to use this new factory, and it can work with the new products (buttons and charts) specific to Company C.\n",
    "\n",
    "Easy Modification of Product Implementations:\n",
    "\n",
    "If a company's branding or widget design changes, you can create new concrete implementations for buttons and charts without altering the existing client code. This separation allows for the easy replacement or addition of specific product implementations.\n",
    "\n",
    "Scalability for New Widgets:\n",
    "\n",
    "If the system needs to support new types of widgets, could be table or graph, it is possible to extend the abstract WidgetFactory and introduce new concrete implementations without affecting existing code. Clients can then choose the appropriate factory to create the desired widgets.\n"
   ]
  },
  {
   "cell_type": "markdown",
   "id": "a8898ecb",
   "metadata": {},
   "source": [
    "## What is the logic behind the code, and how does the information travel?"
   ]
  },
  {
   "cell_type": "markdown",
   "id": "bdebb0ba",
   "metadata": {},
   "source": [
    "Widget Interfaces (Button and Chart):\n",
    "\n",
    "The Button and Chart abstract classes define the interfaces for widgets that the concrete factories will create. They both have an abstract method display that needs to be implemented by concrete products.\n",
    "\n",
    "Concrete Implementations for Companies A and B:\n",
    "\n",
    "The code provides concrete implementations for both Company A and Company B. CompanyAButton, CompanyAChart, CompanyBButton, and CompanyBChart are classes that extend the corresponding widget interfaces and implement the display method with specific behavior for each company.\n",
    "\n",
    "Abstract Factory Interface (WidgetFactory): The WidgetFactory abstract class declares the interfaces for creating the abstract product objects (Button and Chart). It includes abstract methods create_button and create_chart.\n",
    "\n",
    "Concrete Factories for Companies A and B: CompanyAWidgetFactory and CompanyBWidgetFactory are concrete factory classes that extend WidgetFactory. They implement the abstract methods to create concrete products for their respective companies.\n",
    "\n",
    "Client Code: The client_code function takes a WidgetFactory as a parameter and creates a button and a chart using the factory. It then calls the display method on each, which, in turn, prints a message specific to the company.\n",
    "\n",
    "How it works:\n",
    "\n",
    "The client code demonstrates how to use the abstract factory and concrete factories. It creates instances of CompanyAWidgetFactory and CompanyBWidgetFactory and then creates buttons and charts using these factories. The display method is called on each product.\n",
    "\n",
    "The information flows from the client code to the abstract factory, which then delegates the creation of concrete products to the corresponding concrete factories. The client code remains unaware of the specific classes of objects it creates, adhering to the principle of encapsulation and promoting flexibility in choosing product."
   ]
  },
  {
   "cell_type": "markdown",
   "id": "d0bb1eea",
   "metadata": {},
   "source": [
    "## Design Disadvantages"
   ]
  },
  {
   "cell_type": "markdown",
   "id": "8df95e99",
   "metadata": {},
   "source": [
    "Complexity with New Product Additions:\n",
    "\n",
    "When adding new types of products (e.g., a new type of button or chart), modification of the abstract factory interface (WidgetFactory) is required and all of its concrete implementations. This can introduce complexity, especially as the number of product types increases.\n",
    "\n",
    "Increased Number of Classes:\n",
    "\n",
    "As the number of product families and their variations increases, the number of concrete classes (e.g., CompanyAButton, CompanyBButton, CompanyCButton) can grow significantly, leading to increased code size and potential complexity.\n",
    "\n",
    "Limited Flexibility in Product Creation:\n",
    "\n",
    "The pattern ties the creation of products to a specific factory, limiting the flexibility of creating individual products independently."
   ]
  },
  {
   "cell_type": "code",
   "execution_count": null,
   "id": "fe0fb1d2",
   "metadata": {},
   "outputs": [],
   "source": []
  },
  {
   "cell_type": "markdown",
   "id": "956eaef7",
   "metadata": {},
   "source": [
    "### Conclusion"
   ]
  },
  {
   "cell_type": "markdown",
   "id": "bcb90bc3",
   "metadata": {},
   "source": [
    "The design associated to 4 asked questions are by no means perfect. All of the design has advantages and disadvantages. \n",
    "The author have managed to explain how the information travel in the system, created a disadvantage list, what kind of OOP design patterns it used, and explained the patterns and OOP pillars in a not complex way."
   ]
  },
  {
   "cell_type": "code",
   "execution_count": null,
   "id": "a92ea21c",
   "metadata": {},
   "outputs": [],
   "source": []
  },
  {
   "cell_type": "code",
   "execution_count": null,
   "id": "114302a4",
   "metadata": {},
   "outputs": [],
   "source": []
  },
  {
   "cell_type": "code",
   "execution_count": null,
   "id": "e64a703d",
   "metadata": {},
   "outputs": [],
   "source": []
  }
 ],
 "metadata": {
  "kernelspec": {
   "display_name": "Python 3 (ipykernel)",
   "language": "python",
   "name": "python3"
  },
  "language_info": {
   "codemirror_mode": {
    "name": "ipython",
    "version": 3
   },
   "file_extension": ".py",
   "mimetype": "text/x-python",
   "name": "python",
   "nbconvert_exporter": "python",
   "pygments_lexer": "ipython3",
   "version": "3.9.12"
  }
 },
 "nbformat": 4,
 "nbformat_minor": 5
}
